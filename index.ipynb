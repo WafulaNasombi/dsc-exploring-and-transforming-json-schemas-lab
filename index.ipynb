{
 "cells": [
  {
   "cell_type": "markdown",
   "metadata": {},
   "source": [
    "# Exploring and Transforming JSON Schemas - Lab"
   ]
  },
  {
   "cell_type": "markdown",
   "metadata": {},
   "source": [
    "# Introduction\n",
    "\n",
    "In this lab, you'll practice exploring a JSON file whose structure and schema is unknown to you. We will provide you with limited information, and you will explore the dataset to answer the specified question."
   ]
  },
  {
   "cell_type": "markdown",
   "metadata": {},
   "source": [
    "## Objectives\n",
    "\n",
    "You will be able to:\n",
    "\n",
    "* Use the `json` module to load and parse JSON documents\n",
    "* Explore and extract data using unknown JSON schemas\n",
    "* Convert JSON to a pandas dataframe"
   ]
  },
  {
   "cell_type": "markdown",
   "metadata": {},
   "source": [
    "## Your Task: Create a Bar Graph of the Top 10 States with the Highest Asthma Rates for Adults Age 18+\n",
    "\n",
    "The information you need to create this graph is located in `disease_data.json`. It contains both data and metadata.\n",
    "\n",
    "You are given the following codebook/data dictionary:\n",
    "\n",
    "* The actual data values are associated with the key `'DataValue'`\n",
    "* The state names are associated with the key `'LocationDesc'`\n",
    "* To filter to the appropriate records, make sure:\n",
    "  * The `'Question'` is `'Current asthma prevalence among adults aged >= 18 years'`\n",
    "  * The `'StratificationCategoryID1'` is `'OVERALL'`\n",
    "  * The `'DataValueTypeID'` is `'CRDPREV'`\n",
    "  * The `'LocationDesc'` is not `'United States'`\n",
    "  \n",
    "The provided JSON file contains both data and metadata, and you will need to parse the metadata in order to understand the meanings of the values in the data.\n",
    "\n",
    "No further information about the structure of this file is provided."
   ]
  },
  {
   "cell_type": "markdown",
   "metadata": {},
   "source": [
    "## Load the JSON File\n",
    "\n",
    "Load the data from the file `disease_data.json` into a variable `data`."
   ]
  },
  {
   "cell_type": "code",
   "execution_count": 2,
   "metadata": {},
   "outputs": [],
   "source": [
    "# Your code here \n",
    "import json\n",
    "with open('disease_data.json') as f:\n",
    "    data = json.load(f)"
   ]
  },
  {
   "cell_type": "markdown",
   "metadata": {},
   "source": [
    "## Explore the Overall Structure\n",
    "\n",
    "What is the overall data type of `data`?"
   ]
  },
  {
   "cell_type": "code",
   "execution_count": 3,
   "metadata": {},
   "outputs": [
    {
     "name": "stdout",
     "output_type": "stream",
     "text": [
      "<class 'dict'>\n"
     ]
    }
   ],
   "source": [
    "# Your code here\n",
    "print(type(data))"
   ]
  },
  {
   "cell_type": "markdown",
   "metadata": {},
   "source": [
    "What are the keys?"
   ]
  },
  {
   "cell_type": "code",
   "execution_count": 4,
   "metadata": {},
   "outputs": [
    {
     "data": {
      "text/plain": [
       "dict_keys(['meta', 'data'])"
      ]
     },
     "execution_count": 4,
     "metadata": {},
     "output_type": "execute_result"
    }
   ],
   "source": [
    "# Your code here\n",
    "data.keys()"
   ]
  },
  {
   "cell_type": "markdown",
   "metadata": {},
   "source": [
    "What are the data types associates with those keys?"
   ]
  },
  {
   "cell_type": "code",
   "execution_count": 9,
   "metadata": {},
   "outputs": [
    {
     "name": "stdout",
     "output_type": "stream",
     "text": [
      "<class 'list'>\n"
     ]
    }
   ],
   "source": [
    "# Your code here (data)\n",
    "print(type(data['data']))"
   ]
  },
  {
   "cell_type": "code",
   "execution_count": 10,
   "metadata": {},
   "outputs": [
    {
     "name": "stdout",
     "output_type": "stream",
     "text": [
      "<class 'dict'>\n"
     ]
    }
   ],
   "source": [
    "# Your code here (metadata)\n",
    "print(type(data['meta']))"
   ]
  },
  {
   "cell_type": "markdown",
   "metadata": {},
   "source": [
    "Perform additional exploration to understand the contents of these values. For dictionaries, what are their keys? For lists, what is the length, and what does the first element look like?"
   ]
  },
  {
   "cell_type": "code",
   "execution_count": 17,
   "metadata": {},
   "outputs": [
    {
     "name": "stdout",
     "output_type": "stream",
     "text": [
      "data list length: 60266\n",
      "[1, 'FF49C41F-CE8D-46C4-9164-653B1227CF6F', 1, 1527194521, '959778', 1527194521, '959778', None, '2016', '2016', 'US', 'United States', 'BRFSS', 'Alcohol', 'Binge drinking prevalence among adults aged >= 18 years', None, '%', 'Crude Prevalence', '16.9', '16.9', '*', '50 States + DC: US Median', '16', '18', 'Overall', 'Overall', None, None, None, None, [None, None, None, None, None], None, '59', 'ALC', 'ALC2_2', 'CRDPREV', 'OVERALL', 'OVR', None, None, None, None]\n"
     ]
    },
    {
     "data": {
      "text/plain": [
       "dict_keys(['view'])"
      ]
     },
     "execution_count": 17,
     "metadata": {},
     "output_type": "execute_result"
    }
   ],
   "source": [
    "# Your code here (add additional cells as needed)\n",
    "data_list = len(data['data'])\n",
    "print(f\"data list length: {data_list}\")\n",
    "print(data['data'][0])\n",
    "\n",
    "data['meta'].keys()\n"
   ]
  },
  {
   "cell_type": "markdown",
   "metadata": {},
   "source": [
    "As you likely identified, we have a list of lists forming the `'data'`. In order to make sense of that list of lists, we need to find the meaning of each index, i.e. the names of the columns.\n",
    "\n",
    "## Identify the Column Names\n",
    "\n",
    "Look through the metadata to find the *names* of the columns, and assign that variable to `column_names`. This should be a list of strings. (If you just get the values associated with the `'columns'` key, you will have a list of dictionaries, not a list of strings.)"
   ]
  },
  {
   "cell_type": "code",
   "execution_count": 36,
   "metadata": {},
   "outputs": [],
   "source": [
    "# Your code here (add additional cells as needed)\n",
    "column_data = data['meta']['view']['columns']\n",
    "#get column names\n",
    "column_names =[name['name'] for name in column_data]\n",
    "\n"
   ]
  },
  {
   "cell_type": "markdown",
   "metadata": {},
   "source": [
    "The following code checks that you have the correct column names:"
   ]
  },
  {
   "cell_type": "code",
   "execution_count": 37,
   "metadata": {},
   "outputs": [],
   "source": [
    "# Run this cell without changes\n",
    "\n",
    "# 42 total columns\n",
    "assert len(column_names) == 42\n",
    "\n",
    "# Each name should be a string, not a dict\n",
    "assert type(column_names[0]) == str and type(column_names[-1]) == str\n",
    "\n",
    "# Check that we have some specific strings\n",
    "assert \"DataValue\" in column_names\n",
    "assert \"LocationDesc\" in column_names\n",
    "assert \"Question\" in column_names\n",
    "assert \"StratificationCategoryID1\" in column_names\n",
    "assert \"DataValueTypeID\" in column_names"
   ]
  },
  {
   "cell_type": "markdown",
   "metadata": {},
   "source": [
    "## Filter Rows Based on Columns\n",
    "\n",
    "Recall that we only want to include records where:\n",
    "\n",
    "* The `'Question'` is `'Current asthma prevalence among adults aged >= 18 years'`\n",
    "* The `'StratificationCategoryID1'` is `'OVERALL'`\n",
    "* The `'DataValueTypeID'` is `'CRDPREV'`\n",
    "* The `'LocationDesc'` is not `'United States'`\n",
    "\n",
    "Combining knowledge of the data and metadata, filter out the rows of data that are not relevant.\n",
    "\n",
    "(You may find the `pandas` library useful here.)"
   ]
  },
  {
   "cell_type": "code",
   "execution_count": 40,
   "metadata": {},
   "outputs": [
    {
     "name": "stdout",
     "output_type": "stream",
     "text": [
      "       sid                                    id  position  created_at  \\\n",
      "9371  9369  6BEC61D0-E04B-44BA-8170-F7D6A4C40A09      9369  1527194523   \n",
      "9372  9370  5D6EDDA9-B241-4498-A262-ED20AB78C44C      9370  1527194523   \n",
      "9373  9371  5FCE0D49-11FD-4545-B9E7-14F503123105      9371  1527194523   \n",
      "9374  9372  68F151CE-3084-402C-B672-78A43FBDE287      9372  1527194523   \n",
      "9375  9373  D3F00ED2-A069-4E40-B42B-5A2528A91B6F      9373  1527194523   \n",
      "9376  9374  A8B4F198-D388-4663-B82B-936C5FB37428      9374  1527194523   \n",
      "9377  9375  B2FB1AEA-5E2A-4E7C-9A93-586EA18EBE99      9375  1527194523   \n",
      "9378  9376  7C5D70DE-DE95-4AAD-A666-2260B5A16363      9376  1527194523   \n",
      "9379  9377  1893C9A3-C6CE-4F47-A66F-85A4F89F244F      9377  1527194523   \n",
      "9380  9378  D47614E3-47D4-40D6-AC29-C434C876F3DF      9378  1527194523   \n",
      "9381  9379  B1F090FC-1E46-467C-8C7D-0B90022A36BB      9379  1527194523   \n",
      "9382  9380  BFF73DC1-4B7B-43AC-9797-5F244999B94A      9380  1527194523   \n",
      "9383  9381  35433725-2434-480F-8DA5-7D74D3CE9A5B      9381  1527194523   \n",
      "9384  9382  8EE36428-84FF-44DA-BABA-86836A3A6E47      9382  1527194523   \n",
      "9385  9383  992D61D5-06F9-4001-AA9B-0F9CE29E001C      9383  1527194523   \n",
      "9386  9384  5CC74C63-269D-4037-93EB-3048D5401548      9384  1527194523   \n",
      "9387  9385  49F933C4-2A17-4F75-B791-526573D3D99F      9385  1527194523   \n",
      "9388  9386  521713DD-8FF1-4232-8608-EA12E8007A4D      9386  1527194523   \n",
      "9389  9387  55EB767F-A700-4E21-93D4-0749ABA918DC      9387  1527194523   \n",
      "9390  9388  B39B1D7E-8D3A-4BE0-AC5D-4D499F3F30C7      9388  1527194523   \n",
      "9391  9389  219420E0-760B-4A02-B0FF-44E9051D34E7      9389  1527194523   \n",
      "9392  9390  E27F81E2-931C-469B-BE46-805EC12B8196      9390  1527194523   \n",
      "9393  9391  3481271B-7943-4A2F-9CEE-1EBCE30E5CB6      9391  1527194523   \n",
      "9394  9392  AC02F97B-445F-40E2-B429-837B256F27E3      9392  1527194523   \n",
      "9395  9393  17BE97D3-36B0-462C-A798-CFEE2E5C974C      9393  1527194523   \n",
      "9396  9394  53D09576-C3BE-45F3-AC0D-8A4D1B1484D9      9394  1527194523   \n",
      "9397  9395  991ACC7D-0ABB-4556-867B-EE4EAA719F0A      9395  1527194523   \n",
      "9398  9396  AD024790-0CC0-43A8-A72A-51A46B4C2533      9396  1527194523   \n",
      "9399  9397  C7692B0C-2B96-4ED1-B24F-9130A54FB75C      9397  1527194523   \n",
      "9400  9398  74FCA8E5-77AB-44A5-91DA-72673AC06AE5      9398  1527194523   \n",
      "9401  9399  B5808B62-230B-4411-9C32-7EDACF28D282      9399  1527194523   \n",
      "9402  9400  3A3C8CBF-9390-456F-AC50-288C76E913AF      9400  1527194523   \n",
      "9403  9401  A9C42246-0D3E-4D4C-BEC5-340F96D6E3DD      9401  1527194523   \n",
      "9404  9402  F16FC172-EDA8-4EA7-8C98-8A0AD5A4E1A9      9402  1527194523   \n",
      "9405  9403  82577FD1-022C-450D-9F94-BC0406EB1754      9403  1527194523   \n",
      "9406  9404  3A409CD0-793D-496F-B057-BCE2190D5DA1      9404  1527194523   \n",
      "9407  9405  85373C9C-B495-44E9-A059-6A6F4688932E      9405  1527194523   \n",
      "9408  9406  F635C6E2-87FD-412A-AB1D-CC5C5E68866D      9406  1527194523   \n",
      "9409  9407  30EA129F-4AEB-4EB6-8D86-4ECD13192D8A      9407  1527194523   \n",
      "9410  9408  8AF769A0-E6E7-4068-A5C7-AC94C41F5CE2      9408  1527194523   \n",
      "9411  9409  043707BE-2A59-43E2-B2EA-71490C2B1F61      9409  1527194523   \n",
      "9412  9410  2DFA337C-DE2C-43D2-9B8A-2CEEDB414B77      9410  1527194523   \n",
      "9413  9411  3A6C0ED2-AD01-4FB4-98CC-BAAB0567C0DB      9411  1527194523   \n",
      "9414  9412  DA122508-115D-40D6-B69F-E0A9078ED9FC      9412  1527194523   \n",
      "9415  9413  5071E1A5-78CA-43AA-8260-4B8668E298F1      9413  1527194523   \n",
      "9416  9414  D44E78AC-6A3B-49BE-BD06-2BE0BAF32407      9414  1527194523   \n",
      "9417  9415  3C55B777-A5D7-4647-8F6E-C18AC47DB4BC      9415  1527194523   \n",
      "9418  9416  64EDA017-2C34-4C67-A393-5D3D22C9658A      9416  1527194523   \n",
      "9419  9417  08F3DC50-0E08-4FC5-8D4C-C020627D1C0B      9417  1527194523   \n",
      "9420  9418  676864A9-3305-4524-AE8A-7FA5C29E821B      9418  1527194523   \n",
      "9421  9419  E2F93B4A-1B4C-4F7D-8C04-5C02C775623D      9419  1527194523   \n",
      "9422  9420  F54F90BC-FE44-4506-80B5-BE61F945B5FC      9420  1527194523   \n",
      "9423  9421  414E8E7D-A3EA-4E3F-81E0-78FCEFCC00BB      9421  1527194523   \n",
      "9424  9422  89C1CB3A-E017-42CD-8A60-48F7365972F0      9422  1527194523   \n",
      "\n",
      "     created_meta  updated_at updated_meta  meta YearStart YearEnd  ...  \\\n",
      "9371       959778  1527194523       959778  None      2016    2016  ...   \n",
      "9372       959778  1527194523       959778  None      2016    2016  ...   \n",
      "9373       959778  1527194523       959778  None      2016    2016  ...   \n",
      "9374       959778  1527194523       959778  None      2016    2016  ...   \n",
      "9375       959778  1527194523       959778  None      2016    2016  ...   \n",
      "9376       959778  1527194523       959778  None      2016    2016  ...   \n",
      "9377       959778  1527194523       959778  None      2016    2016  ...   \n",
      "9378       959778  1527194523       959778  None      2016    2016  ...   \n",
      "9379       959778  1527194523       959778  None      2016    2016  ...   \n",
      "9380       959778  1527194523       959778  None      2016    2016  ...   \n",
      "9381       959778  1527194523       959778  None      2016    2016  ...   \n",
      "9382       959778  1527194523       959778  None      2016    2016  ...   \n",
      "9383       959778  1527194523       959778  None      2016    2016  ...   \n",
      "9384       959778  1527194523       959778  None      2016    2016  ...   \n",
      "9385       959778  1527194523       959778  None      2016    2016  ...   \n",
      "9386       959778  1527194523       959778  None      2016    2016  ...   \n",
      "9387       959778  1527194523       959778  None      2016    2016  ...   \n",
      "9388       959778  1527194523       959778  None      2016    2016  ...   \n",
      "9389       959778  1527194523       959778  None      2016    2016  ...   \n",
      "9390       959778  1527194523       959778  None      2016    2016  ...   \n",
      "9391       959778  1527194523       959778  None      2016    2016  ...   \n",
      "9392       959778  1527194523       959778  None      2016    2016  ...   \n",
      "9393       959778  1527194523       959778  None      2016    2016  ...   \n",
      "9394       959778  1527194523       959778  None      2016    2016  ...   \n",
      "9395       959778  1527194523       959778  None      2016    2016  ...   \n",
      "9396       959778  1527194523       959778  None      2016    2016  ...   \n",
      "9397       959778  1527194523       959778  None      2016    2016  ...   \n",
      "9398       959778  1527194523       959778  None      2016    2016  ...   \n",
      "9399       959778  1527194523       959778  None      2016    2016  ...   \n",
      "9400       959778  1527194523       959778  None      2016    2016  ...   \n",
      "9401       959778  1527194523       959778  None      2016    2016  ...   \n",
      "9402       959778  1527194523       959778  None      2016    2016  ...   \n",
      "9403       959778  1527194523       959778  None      2016    2016  ...   \n",
      "9404       959778  1527194523       959778  None      2016    2016  ...   \n",
      "9405       959778  1527194523       959778  None      2016    2016  ...   \n",
      "9406       959778  1527194523       959778  None      2016    2016  ...   \n",
      "9407       959778  1527194523       959778  None      2016    2016  ...   \n",
      "9408       959778  1527194523       959778  None      2016    2016  ...   \n",
      "9409       959778  1527194523       959778  None      2016    2016  ...   \n",
      "9410       959778  1527194523       959778  None      2016    2016  ...   \n",
      "9411       959778  1527194523       959778  None      2016    2016  ...   \n",
      "9412       959778  1527194523       959778  None      2016    2016  ...   \n",
      "9413       959778  1527194523       959778  None      2016    2016  ...   \n",
      "9414       959778  1527194523       959778  None      2016    2016  ...   \n",
      "9415       959778  1527194523       959778  None      2016    2016  ...   \n",
      "9416       959778  1527194523       959778  None      2016    2016  ...   \n",
      "9417       959778  1527194523       959778  None      2016    2016  ...   \n",
      "9418       959778  1527194523       959778  None      2016    2016  ...   \n",
      "9419       959778  1527194523       959778  None      2016    2016  ...   \n",
      "9420       959778  1527194523       959778  None      2016    2016  ...   \n",
      "9421       959778  1527194523       959778  None      2016    2016  ...   \n",
      "9422       959778  1527194523       959778  None      2016    2016  ...   \n",
      "9423       959778  1527194523       959778  None      2016    2016  ...   \n",
      "9424       959778  1527194523       959778  None      2016    2016  ...   \n",
      "\n",
      "     LocationID TopicID QuestionID DataValueTypeID StratificationCategoryID1  \\\n",
      "9371         01     AST     AST1_1         CRDPREV                   OVERALL   \n",
      "9372         02     AST     AST1_1         CRDPREV                   OVERALL   \n",
      "9373         04     AST     AST1_1         CRDPREV                   OVERALL   \n",
      "9374         05     AST     AST1_1         CRDPREV                   OVERALL   \n",
      "9375         06     AST     AST1_1         CRDPREV                   OVERALL   \n",
      "9376         08     AST     AST1_1         CRDPREV                   OVERALL   \n",
      "9377         09     AST     AST1_1         CRDPREV                   OVERALL   \n",
      "9378         10     AST     AST1_1         CRDPREV                   OVERALL   \n",
      "9379         11     AST     AST1_1         CRDPREV                   OVERALL   \n",
      "9380         12     AST     AST1_1         CRDPREV                   OVERALL   \n",
      "9381         13     AST     AST1_1         CRDPREV                   OVERALL   \n",
      "9382         15     AST     AST1_1         CRDPREV                   OVERALL   \n",
      "9383         16     AST     AST1_1         CRDPREV                   OVERALL   \n",
      "9384         17     AST     AST1_1         CRDPREV                   OVERALL   \n",
      "9385         18     AST     AST1_1         CRDPREV                   OVERALL   \n",
      "9386         19     AST     AST1_1         CRDPREV                   OVERALL   \n",
      "9387         20     AST     AST1_1         CRDPREV                   OVERALL   \n",
      "9388         21     AST     AST1_1         CRDPREV                   OVERALL   \n",
      "9389         22     AST     AST1_1         CRDPREV                   OVERALL   \n",
      "9390         23     AST     AST1_1         CRDPREV                   OVERALL   \n",
      "9391         24     AST     AST1_1         CRDPREV                   OVERALL   \n",
      "9392         25     AST     AST1_1         CRDPREV                   OVERALL   \n",
      "9393         26     AST     AST1_1         CRDPREV                   OVERALL   \n",
      "9394         27     AST     AST1_1         CRDPREV                   OVERALL   \n",
      "9395         28     AST     AST1_1         CRDPREV                   OVERALL   \n",
      "9396         29     AST     AST1_1         CRDPREV                   OVERALL   \n",
      "9397         30     AST     AST1_1         CRDPREV                   OVERALL   \n",
      "9398         31     AST     AST1_1         CRDPREV                   OVERALL   \n",
      "9399         32     AST     AST1_1         CRDPREV                   OVERALL   \n",
      "9400         33     AST     AST1_1         CRDPREV                   OVERALL   \n",
      "9401         34     AST     AST1_1         CRDPREV                   OVERALL   \n",
      "9402         35     AST     AST1_1         CRDPREV                   OVERALL   \n",
      "9403         36     AST     AST1_1         CRDPREV                   OVERALL   \n",
      "9404         37     AST     AST1_1         CRDPREV                   OVERALL   \n",
      "9405         38     AST     AST1_1         CRDPREV                   OVERALL   \n",
      "9406         39     AST     AST1_1         CRDPREV                   OVERALL   \n",
      "9407         40     AST     AST1_1         CRDPREV                   OVERALL   \n",
      "9408         41     AST     AST1_1         CRDPREV                   OVERALL   \n",
      "9409         42     AST     AST1_1         CRDPREV                   OVERALL   \n",
      "9410         44     AST     AST1_1         CRDPREV                   OVERALL   \n",
      "9411         45     AST     AST1_1         CRDPREV                   OVERALL   \n",
      "9412         46     AST     AST1_1         CRDPREV                   OVERALL   \n",
      "9413         47     AST     AST1_1         CRDPREV                   OVERALL   \n",
      "9414         48     AST     AST1_1         CRDPREV                   OVERALL   \n",
      "9415         49     AST     AST1_1         CRDPREV                   OVERALL   \n",
      "9416         50     AST     AST1_1         CRDPREV                   OVERALL   \n",
      "9417         51     AST     AST1_1         CRDPREV                   OVERALL   \n",
      "9418         53     AST     AST1_1         CRDPREV                   OVERALL   \n",
      "9419         54     AST     AST1_1         CRDPREV                   OVERALL   \n",
      "9420         55     AST     AST1_1         CRDPREV                   OVERALL   \n",
      "9421         56     AST     AST1_1         CRDPREV                   OVERALL   \n",
      "9422         66     AST     AST1_1         CRDPREV                   OVERALL   \n",
      "9423         72     AST     AST1_1         CRDPREV                   OVERALL   \n",
      "9424         78     AST     AST1_1         CRDPREV                   OVERALL   \n",
      "\n",
      "     StratificationID1 StratificationCategoryID2 StratificationID2  \\\n",
      "9371               OVR                      None              None   \n",
      "9372               OVR                      None              None   \n",
      "9373               OVR                      None              None   \n",
      "9374               OVR                      None              None   \n",
      "9375               OVR                      None              None   \n",
      "9376               OVR                      None              None   \n",
      "9377               OVR                      None              None   \n",
      "9378               OVR                      None              None   \n",
      "9379               OVR                      None              None   \n",
      "9380               OVR                      None              None   \n",
      "9381               OVR                      None              None   \n",
      "9382               OVR                      None              None   \n",
      "9383               OVR                      None              None   \n",
      "9384               OVR                      None              None   \n",
      "9385               OVR                      None              None   \n",
      "9386               OVR                      None              None   \n",
      "9387               OVR                      None              None   \n",
      "9388               OVR                      None              None   \n",
      "9389               OVR                      None              None   \n",
      "9390               OVR                      None              None   \n",
      "9391               OVR                      None              None   \n",
      "9392               OVR                      None              None   \n",
      "9393               OVR                      None              None   \n",
      "9394               OVR                      None              None   \n",
      "9395               OVR                      None              None   \n",
      "9396               OVR                      None              None   \n",
      "9397               OVR                      None              None   \n",
      "9398               OVR                      None              None   \n",
      "9399               OVR                      None              None   \n",
      "9400               OVR                      None              None   \n",
      "9401               OVR                      None              None   \n",
      "9402               OVR                      None              None   \n",
      "9403               OVR                      None              None   \n",
      "9404               OVR                      None              None   \n",
      "9405               OVR                      None              None   \n",
      "9406               OVR                      None              None   \n",
      "9407               OVR                      None              None   \n",
      "9408               OVR                      None              None   \n",
      "9409               OVR                      None              None   \n",
      "9410               OVR                      None              None   \n",
      "9411               OVR                      None              None   \n",
      "9412               OVR                      None              None   \n",
      "9413               OVR                      None              None   \n",
      "9414               OVR                      None              None   \n",
      "9415               OVR                      None              None   \n",
      "9416               OVR                      None              None   \n",
      "9417               OVR                      None              None   \n",
      "9418               OVR                      None              None   \n",
      "9419               OVR                      None              None   \n",
      "9420               OVR                      None              None   \n",
      "9421               OVR                      None              None   \n",
      "9422               OVR                      None              None   \n",
      "9423               OVR                      None              None   \n",
      "9424               OVR                      None              None   \n",
      "\n",
      "     StratificationCategoryID3 StratificationID3  \n",
      "9371                      None              None  \n",
      "9372                      None              None  \n",
      "9373                      None              None  \n",
      "9374                      None              None  \n",
      "9375                      None              None  \n",
      "9376                      None              None  \n",
      "9377                      None              None  \n",
      "9378                      None              None  \n",
      "9379                      None              None  \n",
      "9380                      None              None  \n",
      "9381                      None              None  \n",
      "9382                      None              None  \n",
      "9383                      None              None  \n",
      "9384                      None              None  \n",
      "9385                      None              None  \n",
      "9386                      None              None  \n",
      "9387                      None              None  \n",
      "9388                      None              None  \n",
      "9389                      None              None  \n",
      "9390                      None              None  \n",
      "9391                      None              None  \n",
      "9392                      None              None  \n",
      "9393                      None              None  \n",
      "9394                      None              None  \n",
      "9395                      None              None  \n",
      "9396                      None              None  \n",
      "9397                      None              None  \n",
      "9398                      None              None  \n",
      "9399                      None              None  \n",
      "9400                      None              None  \n",
      "9401                      None              None  \n",
      "9402                      None              None  \n",
      "9403                      None              None  \n",
      "9404                      None              None  \n",
      "9405                      None              None  \n",
      "9406                      None              None  \n",
      "9407                      None              None  \n",
      "9408                      None              None  \n",
      "9409                      None              None  \n",
      "9410                      None              None  \n",
      "9411                      None              None  \n",
      "9412                      None              None  \n",
      "9413                      None              None  \n",
      "9414                      None              None  \n",
      "9415                      None              None  \n",
      "9416                      None              None  \n",
      "9417                      None              None  \n",
      "9418                      None              None  \n",
      "9419                      None              None  \n",
      "9420                      None              None  \n",
      "9421                      None              None  \n",
      "9422                      None              None  \n",
      "9423                      None              None  \n",
      "9424                      None              None  \n",
      "\n",
      "[54 rows x 42 columns]\n"
     ]
    }
   ],
   "source": [
    "# Your code here (add additional cells as needed)\n",
    "import pandas as pd\n",
    "# Access and assign the columns data\n",
    "column_data = data['meta']['view']['columns']\n",
    "\n",
    "# Extract the column names\n",
    "column_names = [column['name'] for column in column_data]\n",
    "# Convert data to a pandas DataFrame\n",
    "df = pd.DataFrame(data['data'], columns=column_names)\n",
    "# Apply the filter conditions\n",
    "filtered_df = df[\n",
    "    (df['Question'] == 'Current asthma prevalence among adults aged >= 18 years') &\n",
    "    (df['StratificationCategoryID1'] == 'OVERALL') &\n",
    "    (df['DataValueTypeID'] == 'CRDPREV') &\n",
    "    (df['LocationDesc'] != 'United States')\n",
    "]\n",
    "# Display the filtered DataFrame\n",
    "print(filtered_df)"
   ]
  },
  {
   "cell_type": "markdown",
   "metadata": {},
   "source": [
    "You should have 54 records after filtering.\n",
    "\n",
    "## Extract the Attributes Required for Plotting\n",
    "\n",
    "For each record, the only information we actually need for the graph is the `'DataValue'` and `'LocationDesc'`. Create a list of records that only contains these two attributes.\n",
    "\n",
    "Also, make sure that the data values are numbers, not strings."
   ]
  },
  {
   "cell_type": "code",
   "execution_count": 41,
   "metadata": {},
   "outputs": [
    {
     "name": "stdout",
     "output_type": "stream",
     "text": [
      "[(9.7, 'Alabama'), (8.8, 'Alaska'), (9.4, 'Arizona'), (8.5, 'Arkansas'), (7.8, 'California'), (8.8, 'Colorado'), (10.5, 'Connecticut'), (8.5, 'Delaware'), (9.8, 'District of Columbia'), (6.7, 'Florida'), (8.5, 'Georgia'), (10.7, 'Hawaii'), (9.3, 'Idaho'), (8.9, 'Illinois'), (10.2, 'Indiana'), (7.8, 'Iowa'), (8.8, 'Kansas'), (11.6, 'Kentucky'), (8.3, 'Louisiana'), (12.2, 'Maine'), (9.4, 'Maryland'), (10.3, 'Massachusetts'), (10.9, 'Michigan'), (7.6, 'Minnesota'), (8.0, 'Mississippi'), (9.9, 'Missouri'), (8.5, 'Montana'), (8.3, 'Nebraska'), (7.9, 'Nevada'), (11.4, 'New Hampshire'), (8.2, 'New Jersey'), (11.8, 'New Mexico'), (9.5, 'New York'), (8.0, 'North Carolina'), (9.0, 'North Dakota'), (9.7, 'Ohio'), (10.0, 'Oklahoma'), (10.5, 'Oregon'), (10.6, 'Pennsylvania'), (10.7, 'Rhode Island'), (8.8, 'South Carolina'), (6.2, 'South Dakota'), (10.9, 'Tennessee'), (7.6, 'Texas'), (8.2, 'Utah'), (10.2, 'Vermont'), (8.6, 'Virginia'), (9.6, 'Washington'), (11.8, 'West Virginia'), (8.5, 'Wisconsin'), (9.5, 'Wyoming'), (5.1, 'Guam'), (10.7, 'Puerto Rico'), (6.3, 'Virgin Islands')]\n"
     ]
    }
   ],
   "source": [
    "# Your code here (create additional cells as needed)\n",
    "# Initialize an empty list to store records\n",
    "records = []\n",
    "\n",
    "# Iterate over each row in the filtered DataFrame\n",
    "for index, row in filtered_df.iterrows():\n",
    "    # Extract 'DataValue' and 'LocationDesc'\n",
    "    data_value = float(row['DataValue'])\n",
    "    location_desc = row['LocationDesc']\n",
    "    \n",
    "    # Append the tuple to the records list\n",
    "    records.append((data_value, location_desc))\n",
    "\n",
    "# Print the list of records\n",
    "print(records)\n"
   ]
  },
  {
   "cell_type": "markdown",
   "metadata": {},
   "source": [
    "## Find Top 10 States\n",
    "\n",
    "Sort by `'DataValue'` and limit to the first 10 records."
   ]
  },
  {
   "cell_type": "code",
   "execution_count": 42,
   "metadata": {},
   "outputs": [
    {
     "name": "stdout",
     "output_type": "stream",
     "text": [
      "[(5.1, 'Guam'), (6.2, 'South Dakota'), (6.3, 'Virgin Islands'), (6.7, 'Florida'), (7.6, 'Minnesota'), (7.6, 'Texas'), (7.8, 'California'), (7.8, 'Iowa'), (7.9, 'Nevada'), (8.0, 'Mississippi')]\n"
     ]
    }
   ],
   "source": [
    "# Your code here (add additional cells as needed)\n",
    "# Sort the records by 'DataValue'\n",
    "sorted_records = sorted(records, key=lambda x: x[0])\n",
    "\n",
    "# Limit to the first 10 records\n",
    "top_10_records = sorted_records[:10]\n",
    "\n",
    "# Print the top 10 records\n",
    "print(top_10_records)"
   ]
  },
  {
   "cell_type": "markdown",
   "metadata": {},
   "source": [
    "## Separate the Names and Values for Plotting\n",
    "\n",
    "Assign the names of the top 10 states to a list-like variable `names`, and the associated values to a list-like variable `values`. Then the plotting code below should work correctly to make the desired bar graph."
   ]
  },
  {
   "cell_type": "code",
   "execution_count": 43,
   "metadata": {},
   "outputs": [
    {
     "name": "stdout",
     "output_type": "stream",
     "text": [
      "Names: ['Guam', 'South Dakota', 'Virgin Islands', 'Florida', 'Minnesota', 'Texas', 'California', 'Iowa', 'Nevada', 'Mississippi']\n",
      "Values: [5.1, 6.2, 6.3, 6.7, 7.6, 7.6, 7.8, 7.8, 7.9, 8.0]\n"
     ]
    }
   ],
   "source": [
    "# Replace None with appropriate code\n",
    "\n",
    "# Initialize empty lists for names and values\n",
    "names = []\n",
    "values = []\n",
    "\n",
    "# Iterate over the top 10 records\n",
    "for record in top_10_records:\n",
    "    # Extract 'LocationDesc' and 'DataValue'\n",
    "    location_desc = record[1]\n",
    "    data_value = record[0]\n",
    "    \n",
    "    # Append to names and values lists\n",
    "    names.append(location_desc)\n",
    "    values.append(data_value)\n",
    "\n",
    "# Print the lists\n",
    "print(\"Names:\", names)\n",
    "print(\"Values:\", values)"
   ]
  },
  {
   "cell_type": "code",
   "execution_count": 44,
   "metadata": {},
   "outputs": [
    {
     "data": {
      "image/png": "[encoded data removed]",
      "text/plain": [
       "<Figure size 640x480 with 1 Axes>"
      ]
     },
     "metadata": {},
     "output_type": "display_data"
    }
   ],
   "source": [
    "# Run this cell without changes\n",
    "\n",
    "import matplotlib.pyplot as plt\n",
    "fig, ax = plt.subplots()\n",
    "\n",
    "ax.barh(names[::-1], values[::-1]) # Values inverted so highest is at top\n",
    "ax.set_title('Adult Asthma Rates by State in 2016')\n",
    "ax.set_xlabel('Percent 18+ with Asthma');"
   ]
  },
  {
   "cell_type": "markdown",
   "metadata": {},
   "source": [
    "## Summary\n",
    "\n",
    "In this lab you got some extended practice exploring the structure of JSON files and visualizing data."
   ]
  }
 ],
 "metadata": {
  "kernelspec": {
   "display_name": "Python 3 (ipykernel)",
   "language": "python",
   "name": "python3"
  },
  "language_info": {
   "codemirror_mode": {
    "name": "ipython",
    "version": 3
   },
   "file_extension": ".py",
   "mimetype": "text/x-python",
   "name": "python",
   "nbconvert_exporter": "python",
   "pygments_lexer": "ipython3",
   "version": "3.9.0"
  },
  "toc": {
   "base_numbering": 1,
   "nav_menu": {},
   "number_sections": true,
   "sideBar": true,
   "skip_h1_title": false,
   "title_cell": "Table of Contents",
   "title_sidebar": "Contents",
   "toc_cell": false,
   "toc_position": {},
   "toc_section_display": true,
   "toc_window_display": false
  }
 },
 "nbformat": 4,
 "nbformat_minor": 4
}
